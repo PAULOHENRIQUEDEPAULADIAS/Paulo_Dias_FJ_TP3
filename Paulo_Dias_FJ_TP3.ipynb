{
  "metadata": {
    "kernelspec": {
      "name": "python",
      "display_name": "Python (Pyodide)",
      "language": "python"
    },
    "language_info": {
      "name": ""
    }
  },
  "nbformat_minor": 5,
  "nbformat": 4,
  "cells": [
    {
      "id": "dbae52d8-d3ea-41ec-a8a9-8f1f97cdd99e",
      "cell_type": "markdown",
      "source": "# TP3 - Fundamentos de Desenvolvimento Java",
      "metadata": {}
    },
    {
      "id": "9d5fb062-7595-405f-ae89-a8178771d6ef",
      "cell_type": "markdown",
      "source": "##### Professor: Bernardo Prattes || Estudante: Paulo Henrique de Paula Dias",
      "metadata": {}
    },
    {
      "id": "912687e8-aeb7-48bc-a372-49854d827f95",
      "cell_type": "markdown",
      "source": "Links úteis:\n\nRepositório Git Hub - [Link](https://github.com/PAULOHENRIQUEDEPAULADIAS/Paulo_Dias_JF_TP3)",
      "metadata": {}
    },
    {
      "id": "b756adae-253a-4293-969b-858e81acec5a",
      "cell_type": "markdown",
      "source": "Observação: Este projeto foi desenvolvido dentro de um loop. A ideia é que seja manuzeado como um sistema que está em constante funcionamento, apenas encerrando quando digitado \"0\".",
      "metadata": {}
    },
    {
      "id": "22a8501a-aafa-4bea-8855-2ea6790501f4",
      "cell_type": "markdown",
      "source": "#### Códito presente na estrutura inicial Main.java",
      "metadata": {}
    },
    {
      "id": "45613254-f1fd-4380-a812-ff4af799f5c8",
      "cell_type": "code",
      "source": "import methods.Product;\n\nimport java.util.Scanner;\n\npublic class Main {\n    public static void main(String[] args) {\n        Product product1 = new Product(\"Laranja\", 0.50, 30);\n        Product product2 = new Product(\"Pêra\", 1.00, 50);\n        Product product3 = new Product(\"Cachos de uva\", 3.00, 40);\n\n        Scanner sc = new Scanner(System.in);\n\n        while (true) {\n\n            System.out.println(\" \");\n            System.out.println(\"***** Entre a numeração abaixo *****\");\n            System.out.println(\" \");\n            System.out.println(\" ******* Você deseja ******* \");\n            System.out.println(\"01 - Exercício 1?\");\n            System.out.println(\"02 - Exercício 2 (De exercício 2 até 6)\");\n            System.out.println(\"03 - Exercício 7 (De exercício 7 até 9)\");\n            System.out.println(\"04 - Exercício 10 (De exercício 10 até 12)\");\n\n\n            System.out.println(\" \");\n            System.out.println(\"00 - Sair\");\n\n            String exercise = sc.nextLine();\n\n            int CExercise = convertToIntInRange(exercise);\n\n\n            if (CExercise == -1) {\n                System.out.println(\"Número inválido\");\n                continue;\n            }\n\n\n            if (CExercise == 0) {\n                break;\n            }\n            else if (CExercise == 1)\n            {\n                Exercise1 exercise1 = new Exercise1();\n\n                exercise1.exercise1();\n            }\n            else if (CExercise == 2)\n            {\n                Exercise2 exercise2 = new Exercise2();\n\n                exercise2.exercise2(product1, product2, product3);\n            }\n            else if (CExercise == 3)\n            {\n                Exercise7 exercise7 = new Exercise7();\n\n                exercise7.exercise7();\n            }\n            else if (CExercise == 4)\n            {\n                Exercise10 exercise10 = new Exercise10();\n\n                exercise10.exercise10();\n            }\n            else\n            {\n                System.out.println(\"Digite uma opção válida!\");\n            }\n        }\n        sc.close();\n    }\n\n    public static int convertToIntInRange(String input) {\n        if (input.matches(\"^(?:[0-9]|[0-9][0-9]|100)$\")) {\n            return Integer.parseInt(input);\n        } else {\n            return -1;\n        }\n    }\n\n    public static int qualConta() {\n        Scanner sc = new Scanner(System.in);\n        System.out.println(\"Selecione qual conta:  1, 2 ou 3?\");\n\n        String ID = sc.nextLine();\n        int CID = Main.convertToIntInRange(ID);\n\n        if (CID == -1) {\n            System.out.println(\"Número inválido\");\n\n        }\n        return CID;\n    }\n\n    public static boolean validaDoublePositivo(String entrada) {\n        String regex = \"^[0-9]+(\\\\.[0-9]+)?$\";\n\n        return entrada.matches(regex);\n    }\n\n}",
      "metadata": {
        "trusted": true
      },
      "outputs": [],
      "execution_count": null
    },
    {
      "id": "ef426b39-2c71-4ba2-ab37-6466b2e3b84f",
      "cell_type": "markdown",
      "source": "À partir dessa estrutura de código, temos a interação com todo o programa. Inicialmente temos a criação da Classe Main, instancia de 3 produtos para o exercício 2, e um menú de opções de acordo com o que o usuário deseje visualizar. Opção 1 referente ao exercício 1, opção 2 referente ao exercício 2 até o 6, opção 3 referente ao exercício 7 até o 9 e opção 4 referente ao exercício 10 até 0 12. Também é incluido em todos os menus a opção 0 para sair/retornar. Nesta tela se encontra as instâncias para cada exercício correspondente, adicionado de 3 métodos, convertToIntInRange, qualConta e validaDoublePositivo, que são utilizadas respectivamente para conversão de uma String para int, para questionar qual conta o usuário deseja proceder a ação, referente ao exercício 7, e para validar a entrada do usuário como um double positivo antes de sua conversão de String para Double.",
      "metadata": {}
    },
    {
      "id": "3114265e-8a6d-4d39-89c5-700d9dc5705a",
      "cell_type": "markdown",
      "source": "### Exercício 1 - Conceitos de Classe, Objeto, Campos e Métodos",
      "metadata": {}
    },
    {
      "id": "da7dd256-c5c1-454b-acaa-22adc3b1e28a",
      "cell_type": "markdown",
      "source": "Com base no conteúdo estudado sobre Programação Orientada a Objetos em Java, elabore uma explicação clara e objetiva dos conceitos de classe, objeto, campos (ou atributos) e métodos. Em seguida, crie um exemplo simples (em pseudocódigo ou em Java) que ilustre esses conceitos na prática. Seu exemplo deve conter: \n\n* Declaração de uma classe.\n* Pelo menos dois campos (ou atributos) diferentes.\n* Pelo menos um método que utilize ou manipule os campos da classe.\n* Criação de um objeto a partir da classe declarada.\n\nObservações:\n\n* Você pode usar exemplos do dia a dia (como “Carro”, “ContaBancaria”, etc.) para tornar a explicação mais clara.\n* Procure relacionar cada conceito com o exemplo criado, explicando o que cada parte representa na prática.\n* Seja sucinto, mas inclua detalhes suficientes para demonstrar compreensão do assunto.\n\nConsiderações:\n\n* Clareza e correção conceitual na explicação dos termos (classe, objeto, campos, métodos).\n* Qualidade do exemplo prático e conexão com a teoria.\n* Organização do texto e uso correto da linguagem de programação (caso opte por Java).",
      "metadata": {}
    },
    {
      "id": "082cff4e-83b8-4936-8c52-9e3284a6bc1b",
      "cell_type": "markdown",
      "source": "### Solução do exercício 1.",
      "metadata": {
        "jp-MarkdownHeadingCollapsed": true
      }
    },
    {
      "id": "07c3120e-3f62-4671-ab1d-606e472886c8",
      "cell_type": "markdown",
      "source": "#### Explicação\n\n* \"Uma classe é um molde ou um modelo que define um conjunto de características e comportamentos comuns a objetos (instâncias) que pertencem a ela. Ou seja, a classe é a definição, e os objetos são instâncias dessa definição. No mundo real, podemos comparar uma classe a \"garrafa\", que possui características gerais, como forma, capacidade e material. Os objetos seriam as instâncias dessa classe, como garrafas de água, suco, café, chá, etc., cada uma com suas particularidades, mas todas compartilham as características definidas pela classe \"garrafa\".\" \n\n* \"Conceito de Objeto: Objeto pode ser considerado instâncias da definições de uma classe, se trata de uma referência específica que é compartilhada com a classe. No mundo real, a definição de \"Garrafa de água\", tem por classe a garrafa que possui características próprias, e o produto (Objeto) sendo a água.\"  \n\n* \"Conceito de Campos (ou Atributos): Os Campos ou atributos, são as características gerais ou específicas do conceito. Voltando ao nosso exemplo da garrafa, campos seriam \"capacidade\", \"cor\", \"formato\", etc, informações que caracterizam o item que estamos representando.\";\n\n* \"Conceito de Método: Os métodos são ações que a clásse efetua. Ela é uma ação que é associada a um objeto. Nesse exemplo de garrafa, ações podem ser, \"echer garrafa\" ou \"esvaziar garrafa\" por exemplo.",
      "metadata": {}
    },
    {
      "id": "6580fc40-a3bc-470b-b931-c7c6d1107ca6",
      "cell_type": "markdown",
      "source": "#### Exemplo em código\n\n* \"Garrafa\" equivale a nossa classe\n* \"Private String cor\", \"private int capacidade\" e \"private String material\" representam os atributos da classe \"Garrafa\".\n* \"aguaDoce\" representa um método de \"Garrafa\".\n* \"garrafaDeAgua\" representa o objeto criado à partir da classe garrafa. (Dois códigos à frente).\n",
      "metadata": {}
    },
    {
      "id": "08219357-bd76-4c53-8e70-7b72e9b8f642",
      "cell_type": "code",
      "source": "package methods;\n\npublic class Garrafa {\n\n    private String cor;\n    private int capacidade;\n    private String material;\n\n    public Garrafa(String cor, int capacidade, String material) {\n        this.cor = cor;\n        this.capacidade = capacidade;\n        this.material = material;\n    }\n\n    public String aguaDoce() {\n        return \"Esta garrafa de cor \" + cor + \", com capacidade de \" + capacidade + \"ml, e feita de \" + material + \" contém água doce.\";\n    }\n}\n",
      "metadata": {
        "trusted": true
      },
      "outputs": [],
      "execution_count": null
    },
    {
      "id": "f274cb05-7f97-40a2-ad0e-3d102650ceab",
      "cell_type": "markdown",
      "source": "![image.png](attachment:56381d00-cf19-467b-b458-f9810b1976cd.png)",
      "metadata": {},
      "attachments": {
        "56381d00-cf19-467b-b458-f9810b1976cd.png": {
          "image/png": "[encoded data removed]"
        }
      }
    },
    {
      "id": "dfc0afa5-8fd0-4c8a-9978-91220825e06f",
      "cell_type": "markdown",
      "source": "#### Código dentro executor de Excercio1\n",
      "metadata": {}
    },
    {
      "id": "8f60d711-5e42-47d1-b076-c85a2704a144",
      "cell_type": "code",
      "source": "import methods.Garrafa;\n\nimport java.util.Scanner;\n\npublic class Exercise1 {\n\n    public void exercise1() {\n\n        Scanner sc = new Scanner(System.in);\n\n        System.out.print(\"Digite a cor da garrafa: \");\n        String cor = sc.nextLine();\n\n        System.out.print(\"Digite a capacidade da garrafa (em ml): \");\n        int capacidade = sc.nextInt();\n        sc.nextLine();\n\n        System.out.print(\"Digite o material da garrafa: \");\n        String material = sc.nextLine();\n\n\n        Garrafa garrafa = new Garrafa(cor, capacidade, material);\n\n        String example = garrafa.aguaDoce();\n\n        System.out.println(example);\n\n    }\n\n}",
      "metadata": {
        "trusted": true
      },
      "outputs": [],
      "execution_count": null
    },
    {
      "id": "4bae8754-2ec3-426a-ac46-1491f921832a",
      "cell_type": "markdown",
      "source": "### Exercício 2 - Criando a Classe “Produto” (Com Contexto de Usuário)",
      "metadata": {
        "jp-MarkdownHeadingCollapsed": true
      }
    },
    {
      "id": "c937d385-3c6c-4d6f-98e1-621cae38f723",
      "cell_type": "markdown",
      "source": "Enunciado: Com base nessa história de usuário, vamos criar uma classe que represente um produto de supermercado. Sua tarefa é declarar a classe e os atributos:\n\n* Crie uma classe chamada Produto.\n* Insira nela, pelo menos, os atributos: nome (String), preco (double) e quantidadeEmEstoque (int).\n* Explique brevemente por que cada atributo é importante no contexto de gerenciamento de produtos.\n\nConsiderações:\n\n* Declaração correta dos atributos e criação da classe Produto.",
      "metadata": {}
    },
    {
      "id": "249e646a-ef9b-4948-8742-a448d7f45882",
      "cell_type": "markdown",
      "source": "### Exercício 3 - Métodos Básicos da Classe “Produto”",
      "metadata": {
        "jp-MarkdownHeadingCollapsed": true
      }
    },
    {
      "id": "1f603f3e-4164-47d5-81fa-379a93aad03e",
      "cell_type": "markdown",
      "source": "Enunciado: Dando continuidade ao contexto em que você é responsável pelo gerenciamento de produtos em um pequeno supermercado, agora vamos aprimorar a classe Produto adicionando métodos básicos de manipulação:\n\n* Implementar Método de Atualização de Preço\n    * Crie um método chamado alterarPreco que receba um novo preço (do tipo double) e atualize o atributo preco do produto.\n* Implementar Método de Atualização de Quantidade\n    * Crie um método chamado alterarQuantidade que receba um valor inteiro representando a nova quantidade e atualize o atributo quantidadeEmEstoque.\n* Exibir Informações do Produto\n    * Crie um método chamado exibirInformacoes, que mostre (no console ou como retorno) o nome, o preço e a quantidade em estoque do produto, refletindo o estado atual do objeto.\n\nConsiderações:\n\n* Correta implementação dos métodos solicitados.\n* Clareza e objetividade no código, evidenciando como cada método cumpre sua função de atualizar ou exibir informações.\n* Utilização adequada dos atributos já criados na classe Produto.",
      "metadata": {}
    },
    {
      "id": "15c0a47f-cace-4437-89e4-436a424ad631",
      "cell_type": "markdown",
      "source": "### Exercício 4 - Testando a Classe “Produto”",
      "metadata": {
        "jp-MarkdownHeadingCollapsed": true
      }
    },
    {
      "id": "e4d6ab69-6a70-4747-9ca8-9956ba8763ba",
      "cell_type": "markdown",
      "source": "Enunciado: Dando sequência ao contexto de gerenciamento de produtos em um pequeno supermercado, agora é hora de testar a classe Produto que você desenvolveu. Para isso:\n\n* Criar Classe de Teste ou Método main\n    * Crie uma nova classe (por exemplo, AppProduto ou Main) ou utilize um método principal (main) em alguma classe existente.\n* Instanciar um Produto\n    * Dentro do main, instancie (crie um objeto) da classe Produto.\n    * Atribua valores iniciais aos atributos nome, preco e quantidadeEmEstoque.\n* Chamar os Métodos de Atualização\n    * Chame os métodos alterarPreco e alterarQuantidade para modificar o preço e a quantidade em estoque do produto que você criou.\n* Exibir Informações\n    * Por fim, chame o método exibirInformacoes para confirmar se as alterações foram aplicadas corretamente, exibindo as informações atualizadas do produto no console (ou retornando-as de alguma forma).\n\nConsiderações:\n\n* Criação correta de uma classe ou método principal que possa executar o código.\n* Instanciação da classe Produto e atribuição de valores iniciais.\n* Uso correto dos métodos implementados para atualizar e exibir as informações do produto.\n* Clareza na organização do código de teste (legibilidade e boa prática).",
      "metadata": {}
    },
    {
      "id": "afb83fc3-1bbc-4fab-a42c-b2350047bc72",
      "cell_type": "markdown",
      "source": "### Exercício 5 - Criando Métodos de Propriedade (Getters e Setters)",
      "metadata": {
        "jp-MarkdownHeadingCollapsed": true
      }
    },
    {
      "id": "a7368428-a481-4466-a04a-5e5727503a7e",
      "cell_type": "markdown",
      "source": "Enunciado: Continuando no contexto do pequeno supermercado que gerencia produtos, vamos criar métodos que permitam ler e alterar os valores dos atributos sem precisar acessá-los diretamente. Esses métodos são frequentemente chamados de “getters” e “setters” e ajudam a organizar o código, pois centralizam o modo como cada atributo pode ser modificado ou obtido.\n\n* Métodos “Get” (Leitura):\n     * Crie um método que retorne o valor de cada atributo. Por exemplo:\n        * getNome() deve retornar o valor de nome.\n        * getPreco() deve retornar o valor de preco.\n        * getQuantidadeEmEstoque() deve retornar o valor de quantidadeEmEstoque.\n* Métodos “Set” (Atualização):\n    * Crie um método que receba um novo valor para cada atributo. Por exemplo:\n        * setNome(String novoNome) deve atualizar o valor de nome.\n        * setPreco(double novoPreco) deve atualizar o valor de preco.\n        * setQuantidadeEmEstoque(int novaQuantidade) deve atualizar o valor de quantidadeEmEstoque.\n\nExemplo de Uso:\n * Mostre (no main ou em uma classe de teste) como invocar esses métodos de leitura e atualização.\n * Por exemplo, chame setPreco(3.75) e depois getPreco() para confirmar que o valor foi atualizado.\n\nObservações:\n\n* Você não precisa, neste momento, utilizar modificadores de visibilidade (public, private, protected). Basta criar métodos simples de “get” e “set” para cada atributo.\n* Explique com suas próprias palavras por que esses métodos (getters e setters) podem ser úteis no código, mesmo que não esteja usando modificadores de acesso.\n\nConsiderações:\n\n* Criação de métodos de leitura (getters) e métodos de atualização (setters) para cada atributo.\n* Demonstração de uso desses métodos (chamada em um main ou classe de teste).\n* Clareza e objetividade na explicação sobre a função dos getters e setters no gerenciamento de produtos.",
      "metadata": {}
    },
    {
      "id": "125fd1a9-e0cc-4b82-b925-7aff92f97239",
      "cell_type": "markdown",
      "source": "\n### Exercício 6 - Adicionando Construtores à Classe “Produto”",
      "metadata": {
        "jp-MarkdownHeadingCollapsed": true
      }
    },
    {
      "id": "56e4c332-08e3-4c42-9adf-6798718f747c",
      "cell_type": "markdown",
      "source": "Enunciado: Você continua responsável pelo gerenciamento de produtos no pequeno supermercado. Agora, deseja facilitar a criação de novos produtos no sistema, definindo valores iniciais de maneira mais simples e organizada.\n\n* Criar Construtor\n    * Na classe Produto, crie um construtor que receba parâmetros para inicializar obrigatoriamente os atributos nome, preco e quantidadeEmEstoque.\n    * Descreva rapidamente como o construtor se comporta ao receber os valores.\n* Exemplificar o Uso\n    * No método main ou em outra classe de teste, crie um objeto do tipo Produto usando o construtor que recebe parâmetros.\n    * Atribua valores para nome, preco e quantidadeEmEstoque, e então exiba as informações do produto (usando o método exibirInformacoes ou métodos getters) para confirmar que os valores iniciais foram atribuídos corretamente.\n* Justificativa\n    * Explique por que usar um construtor facilita a criação de objetos em relação a atribuir valores por vários métodos “set” ou chamadas separadas.\n\nConsiderações:\n\n* Declaração correta de um construtor que receba parâmetros na classe Produto.\n* Atribuição adequada dos atributos nome, preco e quantidadeEmEstoque dentro do construtor.\n* Demonstração clara do uso do construtor (instanciando um objeto, exibindo informações).\n* Clareza na explicação sobre a utilidade do construtor no contexto de criação de produtos.",
      "metadata": {}
    },
    {
      "id": "aeaf47bf-a9db-446c-b7b5-8efedfe91cf3",
      "cell_type": "markdown",
      "source": "### Solução aos exercícios 2, 3, 4, 5 e 6.",
      "metadata": {}
    },
    {
      "id": "63976bcd-5c8e-4566-ac7c-824f8a997771",
      "cell_type": "markdown",
      "source": "#### Explicação\n\n* \"Getters e Setters - Dentro do Java, ao criar uma classe e seus atributos, em geral, há a possibilidade de acesso direto aos campos. Porém, o acesso direto aos atributos da classe pode não ser vantajoso em termos de manutenção e segurança do código. Por isso, utilizamos os getters e setters. Eles permitem que você defina e acesse os atributos de um objeto de forma controlada e padronizada.\" \n\n* \"Construtores - Construtores são métodos especiais em uma classe, chamados automaticamente quando um novo objeto é instanciado. Eles têm a função de inicializar o objeto e garantir que ele tenha os atributos necessários de forma padronizada e consistente. O construtor é invocado no momento em que um objeto é criado, permitindo que os atributos do objeto sejam configurados logo de início.\"",
      "metadata": {}
    },
    {
      "id": "4b660de3-4cb2-4b1f-834f-3bce362fd8c5",
      "cell_type": "markdown",
      "source": "#### Código presente em Produto.java",
      "metadata": {}
    },
    {
      "id": "3ffe94ad-f1a8-4b4f-ad52-f4f80723b988",
      "cell_type": "code",
      "source": "package methods;\n\npublic class Product {\n    private static int idCounter = 1;\n    private int id;\n    private String nome;\n    private double preco;\n    private int quantidadeEmEstoque;\n\n    public Product(String nome, double preco, int quantidadeEmEstoque) {\n        this.id = idCounter++;\n        this.nome = nome;\n        this.preco = preco;\n        this.quantidadeEmEstoque = quantidadeEmEstoque;\n    }\n\n    public int getId() {\n        return id;\n    }\n\n    public String getNome() {\n        return nome;\n    }\n\n    public void setNome(String nome) {\n        this.nome = nome;\n    }\n\n    public double getPreco() {\n        return preco;\n    }\n\n    public void setPreco(double preco) {\n        this.preco = preco;\n    }\n\n    public int getQuantidadeEmEstoque() {\n        return quantidadeEmEstoque;\n    }\n\n    public void setQuantidadeEmEstoque(int quantidadeEmEstoque) {\n        this.quantidadeEmEstoque = quantidadeEmEstoque;\n    }\n\n    public String exibirInformacoes() {\n        return \"ID: \" + id + \", Nome: \" + nome + \", Preço: \" + preco + \", Quantidade: \" + quantidadeEmEstoque;\n    }\n}",
      "metadata": {
        "trusted": true
      },
      "outputs": [],
      "execution_count": null
    },
    {
      "id": "2296e059-aed0-4743-bafd-5f2f140add36",
      "cell_type": "markdown",
      "source": "Temos inicialmente a criação da classe Produto, e seus atributos, sento eles um contador ID automático, para que cada produto criado possua um id único, nome do produto, preço do produto e a quantidade disponível do produto em estoque. O construtor do produto se encarrega de aplicar a lógica onde o ID é incrementado automáticamente de 1 (ID 1) em diante. A criação de Getters e Setters, com exceção de seID tendo em vista que é um campo automático. Ao final, temos exibirInformacoes, um método que exibe as informações do produto. ",
      "metadata": {}
    },
    {
      "id": "20b78bf2-9d78-4deb-a04b-99a31cc64fe4",
      "cell_type": "markdown",
      "source": "#### Código presente em Exercise2.java",
      "metadata": {}
    },
    {
      "id": "a90d1018-3528-4931-aa4c-f614500cd26c",
      "cell_type": "code",
      "source": "import methods.Product;\n\nimport java.util.Scanner;\n\npublic class Exercise2 {\n\n    public void exercise2(Product product1, Product product2, Product product3) {\n        Scanner sc = new Scanner(System.in);\n        while (true) {\n            System.out.println(\"***** Entre a numeração abaixo *****\");\n            System.out.println(\" \");\n            System.out.println(\" ******* Você deseja ******* \");\n            System.out.println(\"01 - Atualizar o preço do produto?\");\n            System.out.println(\"02 - Atualizar a quantidade do produto em estoque?\");\n            System.out.println(\"03 - Exibir informações do produto?\");\n            System.out.println(\" \");\n            System.out.println(\"00 - Sair\");\n\n            String option = sc.nextLine();\n            System.out.println(\" \");\n\n            int COption = Main.convertToIntInRange(option);\n\n\n            if (COption == -1) {\n                System.out.println(\"Número inválido\");\n                continue;\n            }\n\n            if (COption == 0) {\n                break;\n            } else if (COption == 1) {\n                while (true) {\n                    double preco;\n                    int item;\n                    while (true) {\n                        try {\n                            System.out.print(\"Digite o novo preço (Formato X.XX): \");\n                            preco = sc.nextDouble();\n\n                            System.out.println(\"Para qual produto deseja fazer a atualização? (1, 2, 3):\");\n                            item = sc.nextInt();\n                            break;\n                        } catch (Exception ex) {\n                            System.out.println(\"Digite um preço válido!\");\n                            sc.nextLine();\n                        }\n                    }\n\n                    switch (item) {\n                        case 1:\n                            product1.setPreco(preco);\n                            System.out.println(\"Preço do Produto 1 atualizado para: \" + preco);\n                            break;\n                        case 2:\n                            product2.setPreco(preco);\n                            System.out.println(\"Preço do Produto 2 atualizado para: \" + preco);\n                            break;\n                        case 3:\n                            product3.setPreco(preco);\n                            System.out.println(\"Preço do Produto 3 atualizado para: \" + preco);\n                            break;\n                        default:\n                            System.out.println(\"Opção inválida.\");\n                    }\n                    break;\n                }\n                break;\n\n            } else if (COption == 2) {\n                while (true) {\n                    int quantidade;\n                    int item;\n                    while (true) {\n                        try {\n                            System.out.print(\"Digite uma quantidade (Formato XX): \");\n                            quantidade = sc.nextInt();\n\n                            System.out.println(\"Para qual produto deseja fazer a atualização? (1, 2, 3):\");\n                            item = sc.nextInt();\n                            break;\n                        } catch (Exception ex) {\n                            System.out.println(\"Digite uma quantidade válida!\");\n                            sc.nextLine();\n                        }\n                    }\n\n                    switch (item) {\n                        case 1:\n                            product1.setQuantidadeEmEstoque(quantidade);\n                            System.out.println(\"Quantidade do Produto 1 atualizado para: \" + quantidade);\n                            break;\n                        case 2:\n                            product1.setQuantidadeEmEstoque(quantidade);\n                            System.out.println(\"Quantidade do Produto 2 atualizado para: \" + quantidade);\n                            break;\n                        case 3:\n                            product1.setQuantidadeEmEstoque(quantidade);\n                            System.out.println(\"Quantidade do Produto 3 atualizado para: \" + quantidade);\n                            break;\n                        default:\n                            System.out.println(\"Opção inválida.\");\n                    }\n                    break;\n                }\n                break;\n            } else if (COption == 3) {\n                while (true) {\n                    int item;\n                    while (true) {\n                        try {\n                            System.out.print(\"Digite o número do produto que deseja visualizar(1, 2, 3): \");\n                            item = sc.nextInt();\n\n                            break;\n                        } catch (Exception ex) {\n                            System.out.println(\"Digite um produto válido!\");\n                            sc.nextLine();\n                        }\n                    }\n                    switch (item) {\n                        case 1:\n                            System.out.println(\"Produto encontrado: \" + product1.exibirInformacoes());\n                            break;\n                        case 2:\n                            System.out.println(\"Produto encontrado: \" + product2.exibirInformacoes());\n                            break;\n                        case 3:\n                            System.out.println(\"Produto encontrado: \" + product3.exibirInformacoes());\n                            break;\n                        default:\n                            System.out.println(\"Produto com ID \" + item + \" não encontrado.\");\n                            break;\n                    }\n                    break;\n                }\n            } else {\n                System.out.println(\"Opção não encontrada\");\n                break;\n            }\n        }\n    }\n}\n",
      "metadata": {
        "trusted": true
      },
      "outputs": [],
      "execution_count": null
    },
    {
      "id": "a0f2de10-ec56-4c39-bab6-16f2a862f1d5",
      "cell_type": "markdown",
      "source": "Aqui temos o campo seletor de opções, onde o usuário pode selecionar entre os campo 1, 2 e 3 ou 0 para retornar/sair. O campo 1 atualiza o préço do produto, selecionando o produto correto a ser atualizado e atribuindo um novo valor de venda através de um sistema Switch case. Opção 2 é um sistema similar, onde é selecionado o produto, e atribuido a quantidade ao produto correspondente através de um switch case. E opção 3 invoca o método exibirInformacoes() de acordo com o produto selecionado. ",
      "metadata": {}
    },
    {
      "id": "27b4bc0a-7cd6-489c-8253-b9871dd3484c",
      "cell_type": "markdown",
      "source": "### Exercício 7 - Modelando uma Conta Bancária\n",
      "metadata": {
        "jp-MarkdownHeadingCollapsed": true
      }
    },
    {
      "id": "403f64d2-65c3-49d3-94ac-e8b083ef8cb7",
      "cell_type": "markdown",
      "source": "Enunciado: Imagine que você é responsável por criar um sistema simples de gerenciamento de contas bancárias. Esse sistema deverá cadastrar informações básicas sobre a conta, bem como realizar operações essenciais, como saque e depósito.\n\n* Criar a Classe Conta\n* Nome da classe: Conta (respeitando convenções Java).\n* A classe deve conter no mínimo os seguintes atributos:\n    * titular (String) – representa o nome do dono da conta.\n    * numero (int) – identifica a conta.\n    * agencia (String) – identifica a agência bancária.\n    * saldo (double) – indica o valor atualmente disponível na conta.\n    * dataAbertura (String) – registra quando a conta foi aberta.",
      "metadata": {}
    },
    {
      "id": "68eaef5e-7f85-4587-84ad-c514e88a7b2c",
      "cell_type": "markdown",
      "source": "### Exercício 8 - Criando Métodos\n",
      "metadata": {
        "jp-MarkdownHeadingCollapsed": true
      }
    },
    {
      "id": "3544d236-df77-427c-a173-5b72a3c19ccb",
      "cell_type": "markdown",
      "source": "Enunciado: Continuamos no cenário onde você é responsável por criar o sistema de gerenciamento de contas e agora você já definiu a Classe Conta. Vamos agora definir os métodos:\n\n* saca(double valor): recebe um valor como parâmetro e o retira do saldo da conta.\n* deposita(double valor): recebe um valor como parâmetro e o adiciona ao saldo da conta.\n* calculaRendimento(): não recebe nenhum parâmetro e devolve (retorna) o valor do saldo multiplicado por 0.1 (representando um rendimento mensal de 10%, por exemplo).",
      "metadata": {}
    },
    {
      "id": "42069a7f-b06c-4871-9aea-ad5eea3d7118",
      "cell_type": "markdown",
      "source": "### Exercício 9 Vamos testar nossa classe",
      "metadata": {
        "jp-MarkdownHeadingCollapsed": true
      }
    },
    {
      "id": "8abbef9e-b45c-4729-aede-5f91b4209227",
      "cell_type": "markdown",
      "source": "Enunciado: Continuamos no cenário aonde você é responsável por criar o sistema de gerenciamento de contas e agora você já definiu a Classe Conta. Vamos agora criar a Classe de Teste! Crie uma classe (por exemplo, TestaConta) que contenha o método main. Dentro de main:\n\n* Instancie um objeto da classe Conta.\n* Atribua valores aos atributos da conta (titular, número, agência, saldo, data de abertura).\n* Chame os métodos saca, deposita e calculaRendimento para testar o comportamento da conta.\n* Exiba informações relevantes (por exemplo, saldo antes e depois de cada operação, valor do rendimento etc.) para verificar se tudo está funcionando corretamente.\n\nObservações:\n\n* Utilize a convenção de nomes e padrões Java (por exemplo, nomes de métodos iniciando em minúsculo, nomes de classes iniciando em maiúsculo etc.).\n* Você pode criar a classe Conta e a classe de teste (TestaConta) em arquivos separados ou no mesmo arquivo. Para organização, recomendamos separar.\n* Caso opte por separar, lembre-se de compilar ambas as classes (por exemplo, javac Conta.java TestaConta.java). Em seguida, rode a classe com o método main (java TestaConta).\n\nConsiderações:\n\n* Presença e correta implementação de todos os atributos solicitados.\n* Funcionamento adequado dos métodos saca, deposita e calculaRendimento.\n* Clareza e objetividade no código, seguindo convenções Java.\n* Execução correta do programa de teste (instanciação e uso dos métodos da classe Conta).",
      "metadata": {}
    },
    {
      "id": "ba31c7f5-a3d0-4d62-b6c7-6824eea2ce04",
      "cell_type": "markdown",
      "source": "### Solução aos exercícios 7, 8 e 9.",
      "metadata": {
        "jp-MarkdownHeadingCollapsed": true
      }
    },
    {
      "id": "15deee6a-8f1e-4e99-aa2f-47165d807b71",
      "cell_type": "markdown",
      "source": "#### Código presente em Conta.java",
      "metadata": {}
    },
    {
      "id": "e4e86b89-f0a7-407c-82f6-88540c9913c4",
      "cell_type": "code",
      "source": "package methods;\n\nimport java.time.LocalDate;\nimport java.time.format.DateTimeFormatter;\n\n\npublic class Conta {\n    private String titular;\n    private int numeroDaConta;\n    private String agencia;\n    private double saldo;\n    private String dataDeAbertura;\n\n\n    public Conta(String titular, int numeroDaConta, String agencia, double saldo) {\n        this.titular = titular;\n        this.numeroDaConta = numeroDaConta;\n        this.agencia = agencia;\n        this.saldo = saldo;\n        this.dataDeAbertura = LocalDate.now().format(DateTimeFormatter.ofPattern(\"dd/MM/yyyy\"));\n    }\n\n    public String getTitular() {\n        return titular;\n    }\n\n\n    public int getNumeroDaConta() {\n        return numeroDaConta;\n    }\n\n    public String getAgencia() {\n        return agencia;\n    }\n\n\n    public double getSaldo() {\n        return saldo;\n    }\n\n    public double saca(double valor) {\n\n\n        if (valor > this.saldo) {\n            System.out.println(\"Saldo insuficiente!\");\n            return 0;\n        }\n\n        System.out.println(\"Saldo anterior: \" + getSaldo());\n        this.saldo -= valor;\n        System.out.println(\"Saldo atual: \" + getSaldo());\n\n\n        return this.saldo;\n    }\n\n    public double deposita(double valor) {\n        System.out.println(\"Saldo anterior: \" + getSaldo());\n        System.out.println(\" \");\n        this.saldo += valor;\n\n        System.out.println(\"Saldo atual: \" + getSaldo());\n        System.out.println(\" \");\n        return this.saldo;\n    }\n\n    public double calculaRendimento() {\n\n        double rendimento = this.saldo * 0.1;\n        return rendimento;\n    }\n}\n",
      "metadata": {
        "trusted": true
      },
      "outputs": [],
      "execution_count": null
    },
    {
      "id": "921f406c-2871-4789-a790-b0e8bd941fd1",
      "cell_type": "markdown",
      "source": "Nesta peça de código, temos a criação da Classe Conta, e seus atributos, sendo eles titular, numeroDaConta, agencia, saldo e dataDeAbertura, este último sendo um campo automático, tendo em vista que não se faz necessário o usuário atribuir uma data para a baertura da conta sendo a data do dia de criação do objeto. Logo em seguida temos a criaçaõ do construtor de classe, definindo os atributos e a automaticidade do campo dataDeAbertura. Tendo em vista que se trata de uma conta bancária, todos os Setters foram dispensados da criação, pois não haverá necessidade de altera-los à partir da sua concepção, apenas os Getters foram mantidos para melhor legibilidade do código. Logo abaixo temos os métodos, saca, que recebe o valor de saque, verifica se esse valor corresponde ao saldo em conta, sendo negativo retorna a informação de saldo insuficiente, e sendo positivo, retorna o saldo anterior e o novo saldo. Após o método deposita, que acresci o valor à depositar com o saldo em contam. E por último o método calculaRendimento, que retorna o valor de conta multiplicado por 10%.",
      "metadata": {}
    },
    {
      "id": "108f8dfc-dadf-4127-a53c-3efdc9e4bc9e",
      "cell_type": "markdown",
      "source": "#### Códito presente em Exercise7.java",
      "metadata": {}
    },
    {
      "id": "a8310a02-7bf3-4d00-8f6f-83c194506b06",
      "cell_type": "code",
      "source": "import methods.Conta;\n\nimport java.util.Scanner;\n\npublic class Exercise7 {\n\n    public void exercise7(){\n        Scanner sc = new Scanner(System.in);\n\n        Conta conta1 = new Conta(\"João da Silva Santos\", 500542, \"Lapa - 0001\", 2000.00);\n        Conta conta2 = new Conta(\"Abvânio Martins Alfândego\", 500697, \"Lapa - 0001\", 5000.00);\n        Conta conta3 = new Conta(\"Meldica Marlin Hej\", 500410, \"Conceição - 0524\", 10000.00);\n\n        while (true){\n            System.out.println(\" \");\n            System.out.println(\"***** Entre a numeração abaixo *****\");\n            System.out.println(\" \");\n            System.out.println(\" ******* Você deseja ******* \");\n            System.out.println(\"01 - Sacar algum valor\");\n            System.out.println(\"02 - Depositar algum valor\");\n            System.out.println(\"03 - Saber informações de rendimento\");\n\n            System.out.println(\" \");\n            System.out.println(\"00 - Sair\");\n\n            String exercise = sc.nextLine();\n\n            int CExercise = Main.convertToIntInRange(exercise);\n\n            if (CExercise == -1) {\n                System.out.println(\"Número inválido\" );\n                continue;\n            }\n            System.out.println(\" \");\n\n\n            if (CExercise == 0) {\n                break;\n            }\n            else if (CExercise == 1)\n            {\n                int identificador = Main.qualConta();\n\n                System.out.print(\"Digite o valor que deseja sacar: \");\n\n                try {\n                    String valor = sc.nextLine();\n\n                    if (!Main.validaDoublePositivo(valor)) {\n                        System.out.println(\"Entrada inválida, operação cancelada!\");\n                        return;\n                    }\n\n                    double CValor = Double.parseDouble(valor);\n\n                    switch (identificador)\n                    {\n                        case 1:\n                            conta1.saca(CValor);\n                            break;\n                        case 2:\n                            conta2.saca(CValor);\n                            break;\n                        case 3:\n                            conta3.saca(CValor);\n                            break;\n                        default:\n                            System.out.println(\"Opção inválida.\");\n                    }\n\n                }\n                catch(Exception ex)\n                {\n                    System.out.println(\"Entrada inválida, operação cancelada!\");\n                    return;\n\n                }\n            }\n            else if(CExercise == 2)\n            {\n                int identificador = Main.qualConta();\n\n                System.out.print(\"Digite o valor que deseja depositar: \");\n\n                try {\n                    String valor = sc.nextLine();\n\n                    if (!Main.validaDoublePositivo(valor)) {\n                        System.out.println(\"Entrada inválida, operação cancelada!\");\n                        return;\n                    }\n\n                    double CValor = Double.parseDouble(valor);\n\n                    switch (identificador)\n                    {\n                        case 1:\n                            conta1.deposita(CValor);\n                            break;\n                        case 2:\n                            conta2.deposita(CValor);\n                            break;\n                        case 3:\n                            conta3.deposita(CValor);\n                            break;\n                        default:\n                            System.out.println(\"Opção inválida.\");\n                    }\n\n                }\n                catch(Exception ex)\n                {\n                    System.out.println(\"Entrada inválida, operação cancelada!\");\n                    return;\n\n                }\n            }\n            else if (CExercise == 3)\n            {\n                int identificador = Main.qualConta();\n                double rendimento;\n\n                switch (identificador) {\n                        case 1:\n                            rendimento = conta1.calculaRendimento();\n                            System.out.println(\"Seu dinheiro renderá R$\" + rendimento + \"em conta em até 30 dias\");\n                            break;\n                        case 2:\n                            rendimento = conta2.calculaRendimento();\n                            System.out.println(\"Seu dinheiro renderá R$\" + rendimento + \"em conta em até 30 dias\");\n                            break;\n                        case 3:\n                            rendimento = conta3.calculaRendimento();\n                            System.out.println(\"Seu dinheiro renderá R$\" + rendimento + \"em conta em até 30 dias\");\n                            break;\n                        default:\n                            System.out.println(\"Opção inválida.\");\n                }\n            }\n            else {\n                System.out.println(\"Opção inválida!\");\n            }\n        }\n    }\n}",
      "metadata": {
        "trusted": true
      },
      "outputs": [],
      "execution_count": null
    },
    {
      "id": "8fd413fb-cf3b-47c9-83b2-699fab42e204",
      "cell_type": "markdown",
      "source": "Nesta peça de código temos o menu de navegação das funcionalidades para uma conta (Saque, Depósito e Calcular Rendimentos). Inicialmente temos a criação de 3 objetos, representando 3 contas diferentes. Após se inicia o menu de opções para o usuário selecionar a ação desejada. A primeira opção corresponde ao método saque explicado anteriormente, a segunda opção corresponde ao método depósito também explicado anteriormente, e a terceira opção corresponde ao método calculaRendimento, que define qual foi o rendimento da conta nos últimos 30 dias.",
      "metadata": {}
    },
    {
      "id": "fc833784-d6d0-45e5-9a42-4a8a55889caf",
      "cell_type": "markdown",
      "source": "### Exercício 10 - Definindo Classes para Formas Geométricas",
      "metadata": {
        "jp-MarkdownHeadingCollapsed": true
      }
    },
    {
      "id": "8ccdc31b-a672-475f-9f26-98ccfc9dcb87",
      "cell_type": "markdown",
      "source": "Enunciado: Você está desenvolvendo um sistema simples para calcular áreas (para figuras 2D) e volumes (para figuras 3D). Ainda não foram apresentados conceitos avançados (como herança), então você criará classes independentes para cada forma.\n\n* Classes Iniciais:\n    * Crie a classe Circulo com, no mínimo, o atributo raio (do tipo double).\n    * Crie a classe Esfera com, no mínimo, o atributo raio (do tipo double).\n* Definição de Atributos:\n    * Explique por que o atributo raio é fundamental para cada uma dessas classes.\n    * Não é preciso criar métodos de cálculo ainda – apenas estruture as classes e seus atributos.\n\nObservações:\n\n* As classes podem ficar em arquivos separados (Circulo.java e Esfera.java) ou no mesmo arquivo.\n* Utilize convenções básicas de Java (nomes de classes iniciando em maiúscula, etc.).\n\nConsiderações:\n\n* Declaração correta das classes Circulo e Esfera.\n* Presença e clareza na definição do(s) atributo(s) necessário(s).\n* Código organizado e fácil de ler, sem uso de conceitos não ensinados (como herança ou polimorfismo).",
      "metadata": {}
    },
    {
      "id": "fe2e257d-3e15-45e7-a76d-8de967a0c2e2",
      "cell_type": "markdown",
      "source": "### Exercício 11 - Criando Métodos de Cálculo",
      "metadata": {
        "jp-MarkdownHeadingCollapsed": true
      }
    },
    {
      "id": "89fcc98e-a877-4c68-9923-e128d2c80eb7",
      "cell_type": "markdown",
      "source": "Enunciado: Agora, você adicionará métodos para calcular a área do círculo e o volume da esfera:\n\n* Cálculo da Área do Círculo\n    * Na classe Circulo, crie um método (por exemplo, calcularArea()) que retorne a área, dada por π * (raio * raio).\n* Cálculo do Volume da Esfera\n    * Na classe Esfera, crie um método (por exemplo, calcularVolume()) que retorne o volume, dado por (4.0 / 3.0) * π * (raio * raio * raio).\n* Valor de π\n    * Você pode usar Math.PI (fornecido pelo Java) ou declarar uma constante (por exemplo, static final double PI = 3.14159;), conforme desejar.\n\nObservações:\n\n* Lembre-se de retornar o resultado dos cálculos ao invés de apenas imprimir.\n* Não utilize recursos avançados (como herança), apenas métodos simples dentro de cada classe.\n\nConsiderações:\n\n* Métodos de cálculo corretos e funcionais (calcularArea() no círculo, calcularVolume() na esfera).\n* Retorno adequado dos valores (sem prints dentro dos métodos, a menos que queira exibir para conferência).",
      "metadata": {}
    },
    {
      "id": "53167702-57e6-44e1-915d-1ec550f66054",
      "cell_type": "markdown",
      "source": "### Exercício 12 - Testando as Classes de Figuras",
      "metadata": {
        "jp-MarkdownHeadingCollapsed": true
      }
    },
    {
      "id": "b66aaa5f-07f7-4ed6-8b19-f2ffb0368c75",
      "cell_type": "markdown",
      "source": "Enunciado: Finalmente, é hora de testar as classes que você criou. Crie uma classe de teste (por exemplo, TestaFiguras) com um método main para:\n\n* Instanciar um objeto da classe Circulo e outro da classe Esfera.\n* Atribuir valores de raio (ex.: 3.0 para o círculo, 5.0 para a esfera).\n* Chamar os métodos de cálculo (calcularArea() e calcularVolume()).\n* Exibir os resultados no console para verificar se os métodos estão funcionando corretamente.\n\nObservações:\n\n* Caso opte por arquivos separados, lembre-se de compilar ambos (por exemplo, javac Circulo.java Esfera.java TestaFiguras.java) e depois rodar a classe que tem o main.\n* Não use conceitos como herança; limite-se a instanciar e chamar os métodos.\n\nConsiderações:\n\n* Criação de uma classe de teste com método main.\n* Instanciação correta das classes Circulo e Esfera, atribuindo valores ao atributo raio.\n* Chamadas corretas aos métodos de cálculo, exibindo resultados plausíveis.\n* Organização e legibilidade do código, seguindo convenções Java.",
      "metadata": {}
    },
    {
      "id": "0ba4fedc-a92d-4d0b-b3c9-8636cce5b6c4",
      "cell_type": "markdown",
      "source": "### Solução aos exercícios 10, 11 e 12",
      "metadata": {
        "jp-MarkdownHeadingCollapsed": true
      }
    },
    {
      "id": "1a0e6a6f-ccab-412e-be28-1bb7852f208f",
      "cell_type": "markdown",
      "source": "#### Explicação\n\n* Porque do atributo Raio? - Raio representa a distância do centro da forma até a sua extremidade, dessa forma, quando temos o raio², temos o raio completo, ou o diâmetro, da forma a ser analisada. Isso é importante pois como uma forma circular não possui retas em suas extremidades, não é possível efetivar o cálculo de área ou volume regularmente como se faria com um triângulo retângulo ou um quadrado por exemplo.",
      "metadata": {}
    },
    {
      "id": "6e9477b2-2d24-46ef-95af-43af83960990",
      "cell_type": "markdown",
      "source": "#### Código presente em Circulo.java",
      "metadata": {}
    },
    {
      "id": "5da0aeff-a543-4fc4-b7ce-1b8573cdc623",
      "cell_type": "code",
      "source": "package methods;\n\npublic class Cirgulo {\n    private double raio;\n\n    public Cirgulo(double raio){\n        this.raio = raio;\n    }\n\n    public double getRaio() {\n        return raio;\n    }\n\n    public double calcularArea(){\n        double area = Math.PI * (Math.pow(this.raio, 2));\n\n        return area;\n    }\n}\n",
      "metadata": {
        "trusted": true
      },
      "outputs": [],
      "execution_count": null
    },
    {
      "id": "9f34cac8-e21e-4d25-94e8-2418760faa4d",
      "cell_type": "markdown",
      "source": "#### Código presente em Esfera.java",
      "metadata": {}
    },
    {
      "id": "fd103181-1e3b-411f-9b93-c456ebdf1ef3",
      "cell_type": "code",
      "source": "package methods;\n\npublic class Esfera {\n    private double raio;\n\n    public Esfera(double raio){\n        this.raio = raio;\n    }\n\n    public double getRaio() {\n        return raio;\n    }\n\n    public double calcularVolume(){\n        double volume = (4.0/3.0) * Math.PI * Math.pow(raio, 3);\n\n        return volume;\n    }\n}\n",
      "metadata": {
        "trusted": true
      },
      "outputs": [],
      "execution_count": null
    },
    {
      "id": "77198a70-0e61-41e7-8860-2b0f70928660",
      "cell_type": "markdown",
      "source": "Em ambos os códigos temos a mesma sequência, a criação das classes, os atributos raio em ambos, o construtor de raio, o getRaio(), e o método de cálculo respectivo.",
      "metadata": {}
    },
    {
      "id": "d1233813-6780-4dfb-b02d-7d4e1dc3890e",
      "cell_type": "markdown",
      "source": "#### Código presente em Exercise10.java",
      "metadata": {}
    },
    {
      "id": "aabba59a-2c62-4ec3-a126-c85059bb9344",
      "cell_type": "code",
      "source": "import methods.Cirgulo;\nimport methods.Conta;\nimport methods.Esfera;\n\nimport java.util.Scanner;\n\npublic class Exercise10 {\n\n    public void exercise10(){\n        Scanner sc = new Scanner(System.in);\n\n        Cirgulo circulo = new Cirgulo(3.0);\n        Esfera esfera = new Esfera(5.0);\n\n        while (true) {\n            System.out.println(\" \");\n            System.out.println(\"***** Entre a numeração abaixo *****\");\n            System.out.println(\" \");\n            System.out.println(\" ******* Você deseja ******* \");\n            System.out.println(\"01 - Calcular a área do círculo\");\n            System.out.println(\"02 - Calcular o volume da esfera\");\n\n            System.out.println(\" \");\n            System.out.println(\"00 - Sair\");\n\n            String exercise = sc.nextLine();\n\n            int CExercise = Main.convertToIntInRange(exercise);\n\n            if (CExercise == -1) {\n                System.out.println(\"Número inválido\");\n                continue;\n            }\n            System.out.println(\" \");\n\n\n            if (CExercise == 0)\n            {\n                break;\n            }\n            else if (CExercise == 1)\n            {\n                System.out.println(circulo.getRaio() + \" equivale ao raio do círculo, com área de \" + String.format(\"%.4f\", circulo.calcularArea()));\n                System.out.println(\" \");\n            }\n            else if(CExercise == 2)\n            {\n                System.out.println(esfera.getRaio() + \" equivale ao raio da esfera, com volume de \" + String.format(\"%.4f\", esfera.calcularVolume()));\n                System.out.println(\" \");\n            }\n            else {\n                System.out.println(\"Opção inválida!\");\n            }\n        }\n    }\n}",
      "metadata": {
        "trusted": true
      },
      "outputs": [],
      "execution_count": null
    },
    {
      "id": "d82cfb86-8b85-4409-9ab7-956713f24b33",
      "cell_type": "markdown",
      "source": "Nesta última peça de código, temos a inicialmente a elaboração do menu que questiona qual das atividades o usuário deseja realizar, se calcular a área do círculo ou o volume da esfera, sendo respectivamente opções 1 e 2. À partir dessa escolha a estrutura condicional seleciona o que o usuário deseja e exibe na tela a informação.",
      "metadata": {}
    }
  ]
}